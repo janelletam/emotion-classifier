{
 "cells": [
  {
   "cell_type": "markdown",
   "metadata": {},
   "source": [
    "# Semi Final Codes Notebook"
   ]
  },
  {
   "cell_type": "markdown",
   "metadata": {},
   "source": [
    "## Intro\n",
    "\n",
    "The purpose of this notebook is to keep the necessary blocks and codes that we are going to use in our final model.\n",
    "It will help us to keep track of every finished part of the project and helps with debugging of each section as we are ready to implement them.  "
   ]
  },
  {
   "cell_type": "markdown",
   "metadata": {},
   "source": [
    "## Importing necessary libraries"
   ]
  },
  {
   "cell_type": "code",
   "execution_count": 145,
   "metadata": {},
   "outputs": [],
   "source": [
    "# Libraries to install\n",
    "\n",
    "# %pip install librosa\n",
    "# %pip install matplotlib==3.3.4\n",
    "# %pip install datasets[audio]"
   ]
  },
  {
   "cell_type": "code",
   "execution_count": 146,
   "metadata": {},
   "outputs": [],
   "source": [
    "import os, sys\n",
    "\n",
    "import numpy as np\n",
    "import pandas as pd\n",
    "\n",
    "import torch\n",
    "torch.manual_seed(0)\n",
    "from torch.utils.data import Dataset, DataLoader\n",
    "import torch.nn as nn\n",
    "import torch.optim as optim\n",
    "\n",
    "import matplotlib.pyplot as plt\n",
    "\n",
    "from sklearn.model_selection import KFold\n",
    "from sklearn.metrics import confusion_matrix\n",
    "\n",
    "import librosa\n",
    "\n",
    "import Lib  # the project's own library of functions"
   ]
  },
  {
   "cell_type": "code",
   "execution_count": 147,
   "metadata": {},
   "outputs": [
    {
     "name": "stdout",
     "output_type": "stream",
     "text": [
      "cpu\n"
     ]
    }
   ],
   "source": [
    "device = torch.device('cuda' if torch.cuda.is_available() else 'cpu')\n",
    "print(device)"
   ]
  },
  {
   "cell_type": "markdown",
   "metadata": {},
   "source": [
    "## Initializing Datasets\n",
    "\n",
    "Note: Make sure you have downloaded the datasets and placed them in the './Data/' directory\n",
    "\n",
    "each of these blocks pre-process their respective dataset. For each available dataset, run it's corresponding block to make sure its ready to be utilized."
   ]
  },
  {
   "cell_type": "code",
   "execution_count": 148,
   "metadata": {},
   "outputs": [
    {
     "name": "stdout",
     "output_type": "stream",
     "text": [
      "Dataset has already been normalized and resampled. Skipping...\n"
     ]
    }
   ],
   "source": [
    "CREMA = Lib.CREMA()"
   ]
  },
  {
   "cell_type": "code",
   "execution_count": 149,
   "metadata": {},
   "outputs": [
    {
     "name": "stdout",
     "output_type": "stream",
     "text": [
      "Dataset has already been normalized and resampled. Skipping...\n"
     ]
    }
   ],
   "source": [
    "RAVDESS = Lib.RAVDESS()"
   ]
  },
  {
   "cell_type": "code",
   "execution_count": 150,
   "metadata": {},
   "outputs": [
    {
     "name": "stdout",
     "output_type": "stream",
     "text": [
      "Dataset has already been normalized and resampled. Skipping...\n"
     ]
    }
   ],
   "source": [
    "SAVEE = Lib.SAVEE()"
   ]
  },
  {
   "cell_type": "code",
   "execution_count": 151,
   "metadata": {},
   "outputs": [
    {
     "name": "stdout",
     "output_type": "stream",
     "text": [
      "Dataset has already been normalized and resampled. Skipping...\n"
     ]
    }
   ],
   "source": [
    "TESS = Lib.TESS()"
   ]
  },
  {
   "cell_type": "markdown",
   "metadata": {},
   "source": [
    "## Prepare the Data"
   ]
  },
  {
   "cell_type": "code",
   "execution_count": 152,
   "metadata": {},
   "outputs": [],
   "source": [
    "def pad_audio(audio, sr, desired_length_in_sec):\n",
    "\n",
    "    # desired_length is desired length of audio in seconds\n",
    "    # audio is the raw audio signal as numpy array from librosa\n",
    "    # sr is sampling rate\n",
    "    desired_length = int(sr * desired_length_in_sec)\n",
    "\n",
    "    # Truncate if too long\n",
    "    if len(audio) > desired_length:\n",
    "        audio = audio[:desired_length]\n",
    "        # TODO: Check for silent parts before cropping the audio file\n",
    "\n",
    "    # Else, pad with 0s\n",
    "    else:\n",
    "        padding = int(desired_length - len(audio))\n",
    "        audio = np.pad(audio, (0, padding), 'constant')\n",
    "    return audio"
   ]
  },
  {
   "cell_type": "code",
   "execution_count": 153,
   "metadata": {},
   "outputs": [],
   "source": [
    "# extract MFCCs from the audio files\n",
    "def extract_mfccs(file_path, n_mfcc=13):\n",
    "    audio, sr = librosa.load(file_path, sr=None)\n",
    "    audio = pad_audio(audio, sr, 2.0)\n",
    "\n",
    "    # This returns an mfcc where the COLUMNS correspond to the frames of the audio,\n",
    "    # and ROWS represent features\n",
    "    mfcc = librosa.feature.mfcc(y=audio, sr=sr, n_mfcc=n_mfcc)\n",
    "\n",
    "    # This extracts info about the first and second derivative of the mfcc\n",
    "    # so we can get an idea of how the audio changes over time\n",
    "    delta_mfcc  = librosa.feature.delta(mfcc)\n",
    "    delta2_mfcc = librosa.feature.delta(mfcc, order=2)\n",
    "\n",
    "    # Stacking mfcc and deltas together\n",
    "    combined_matrix = np.vstack([mfcc, delta_mfcc, delta2_mfcc])\n",
    "    # print(\"MFCC shape:\", mfcc.shape)\n",
    "    # print(\"Delta MFCC shape:\", delta_mfcc.shape)\n",
    "    # print(\"Delta2 MFCC shape:\", delta2_mfcc.shape)\n",
    "\n",
    "    # Normalize mfccs\n",
    "    combined_matrix = (combined_matrix - np.mean(combined_matrix, axis=0)) / np.std(combined_matrix, axis=0)\n",
    "    # print(\"Combined matrix shape before transpose:\", combined_matrix.shape)\n",
    "\n",
    "    # We transpose so that the ROWS correspond to the frames of the audio, \n",
    "    # while COLUMNS represent features\n",
    "    transposed_matrix = np.transpose(combined_matrix, [1, 0])\n",
    "    # print(\"Transposed matrix shape:\", transposed_matrix.shape)\n",
    "\n",
    "    return transposed_matrix"
   ]
  },
  {
   "cell_type": "code",
   "execution_count": 154,
   "metadata": {},
   "outputs": [],
   "source": [
    "def display_mfcc(mfcc_matrix):\n",
    "    # Display the combined matrix\n",
    "    combined_matrix = np.transpose(mfcc_matrix, [1, 0])\n",
    "    plt.figure(figsize=(12, 6))\n",
    "    plt.imshow(combined_matrix, aspect='auto', origin='lower', cmap='viridis')\n",
    "\n",
    "    # We divide the y-axis into three equal parts to denote MFCC, delta, and delta-delta regions\n",
    "    num_rows = combined_matrix.shape[0]\n",
    "    plt.yticks(\n",
    "        [num_rows/6, num_rows/2, 5*num_rows/6],\n",
    "        ['MFCC', 'Delta', 'Delta-Delta']\n",
    "    )\n",
    "\n",
    "    plt.title('Combined MFCC, Delta, Delta-Delta Coefficients')\n",
    "    plt.xlabel('Frame')\n",
    "    plt.ylabel('Coefficients')\n",
    "    plt.colorbar()\n",
    "    plt.tight_layout()\n",
    "    plt.show()"
   ]
  },
  {
   "cell_type": "code",
   "execution_count": 155,
   "metadata": {},
   "outputs": [],
   "source": [
    "class ResampledAudioDataset(Dataset):\n",
    "    \n",
    "    def __init__(self, *datasets):\n",
    "        # 'audio_files' is a dictionary that will contain path and labels for every audio file in the given datasets\n",
    "        # and is formatted as {'path': [], 'label': []}\n",
    "        self.audio_files = Lib.merge_dataset_dictionaries(*datasets)\n",
    "        print(pd.DataFrame(self.audio_files))\n",
    "\n",
    "    def __len__(self):\n",
    "        return len(self.audio_files['path'])\n",
    "    \n",
    "    def num_classes(self):\n",
    "        return len(set(self.audio_files['label']))\n",
    "    \n",
    "    def __getitem__(self, index):\n",
    "        audio_path = self.audio_files['path'][index]\n",
    "        audio_label = self.audio_files['label'][index]\n",
    "        audio_file = extract_mfccs(audio_path)\n",
    "\n",
    "        # Prints the the requested audio file details\n",
    "        # It has been commented to reduce clutter during debug\n",
    "        '''\n",
    "        print('----------- Audio file Data -----------')\n",
    "        print('Audio path:', audio_path)\n",
    "        print ('Audio label:', audio_label, f'({Lib.convert_label(audio_label)})')\n",
    "        '''\n",
    "        return audio_file, audio_label"
   ]
  },
  {
   "cell_type": "code",
   "execution_count": 156,
   "metadata": {},
   "outputs": [
    {
     "name": "stdout",
     "output_type": "stream",
     "text": [
      "                                                    path  label\n",
      "0      Data\\resampled\\CREMA\\CREMA_resampled_0_emotion...      4\n",
      "1      Data\\resampled\\CREMA\\CREMA_resampled_1_emotion...      6\n",
      "2      Data\\resampled\\CREMA\\CREMA_resampled_2_emotion...      5\n",
      "3      Data\\resampled\\CREMA\\CREMA_resampled_3_emotion...      2\n",
      "4      Data\\resampled\\CREMA\\CREMA_resampled_4_emotion...      0\n",
      "...                                                  ...    ...\n",
      "12157  Data\\resampled\\RAVDESS\\RAVDESS_resampled_1435_...      7\n",
      "12158  Data\\resampled\\RAVDESS\\RAVDESS_resampled_1436_...      7\n",
      "12159  Data\\resampled\\RAVDESS\\RAVDESS_resampled_1437_...      7\n",
      "12160  Data\\resampled\\RAVDESS\\RAVDESS_resampled_1438_...      7\n",
      "12161  Data\\resampled\\RAVDESS\\RAVDESS_resampled_1439_...      7\n",
      "\n",
      "[12162 rows x 2 columns]\n"
     ]
    }
   ],
   "source": [
    "# creating the dataset from all available audio files for the model\n",
    "audio_dataset = ResampledAudioDataset(CREMA, TESS, SAVEE, RAVDESS)\n",
    "\n",
    "train_len = int(len(audio_dataset) * 0.8)   # 80% of the data will be used for the training\n",
    "test_len = len(audio_dataset) - train_len   # 20% of the data will be used for the testing\n",
    "train_dataset, test_dataset = torch.utils.data.random_split(audio_dataset, [train_len, test_len])\n",
    "\n",
    "test_loader = DataLoader(test_dataset, batch_size=256, shuffle=True)"
   ]
  },
  {
   "cell_type": "markdown",
   "metadata": {},
   "source": [
    "### ----------------- Temp Test Block -----------------"
   ]
  },
  {
   "cell_type": "code",
   "execution_count": 157,
   "metadata": {},
   "outputs": [
    {
     "data": {
      "text/plain": [
       "8"
      ]
     },
     "execution_count": 157,
     "metadata": {},
     "output_type": "execute_result"
    }
   ],
   "source": [
    "audio_dataset.num_classes()"
   ]
  },
  {
   "cell_type": "code",
   "execution_count": 158,
   "metadata": {},
   "outputs": [
    {
     "data": {
      "image/png": "[encoded data removed]",
      "text/plain": [
       "<Figure size 1200x600 with 2 Axes>"
      ]
     },
     "metadata": {},
     "output_type": "display_data"
    },
    {
     "data": {
      "text/plain": [
       "array([[-3.5860662 ,  4.6186833 ,  0.7580069 , ..., -0.15708554,\n",
       "        -0.07992894, -0.12292159],\n",
       "       [-2.9995348 ,  4.70082   ,  0.6652211 , ..., -0.19201908,\n",
       "        -0.12353586, -0.16169558],\n",
       "       [-3.0993543 ,  4.5626783 ,  0.426312  , ..., -0.17280622,\n",
       "        -0.11171044, -0.14575379],\n",
       "       ...,\n",
       "       [ 1.257184  ,  5.557013  , -0.20900291, ..., -0.14491042,\n",
       "        -0.13893206, -0.12467621],\n",
       "       [ 0.735959  ,  5.1919026 , -0.0660508 , ..., -0.15941311,\n",
       "        -0.15332213, -0.13879773],\n",
       "       [ 1.1751672 ,  4.5792346 ,  0.0803216 , ..., -0.16099355,\n",
       "        -0.1544345 , -0.13879398]], dtype=float32)"
      ]
     },
     "execution_count": 158,
     "metadata": {},
     "output_type": "execute_result"
    }
   ],
   "source": [
    "matrix, _ = train_dataset[1]\n",
    "display_mfcc(matrix)\n",
    "matrix"
   ]
  },
  {
   "cell_type": "markdown",
   "metadata": {},
   "source": [
    "## Build the model"
   ]
  },
  {
   "cell_type": "code",
   "execution_count": 159,
   "metadata": {},
   "outputs": [],
   "source": [
    "class CNNModel(nn.Module): # 94 by 39 matrix sizes\n",
    "  def __init__(self, num_classes):\n",
    "    super().__init__()\n",
    "    self.model = nn.Sequential(\n",
    "      # torch.nn.Conv2d(in_channels, out_channels, kernel_size, \n",
    "      # stride=1, padding=0, dilation=1, groups=1, bias=True, padding_mode='zeros', device=None, dtype=None)\n",
    "        \n",
    "        # what we had before\n",
    "        nn.Conv2d(1, 32, kernel_size=3, padding=1, stride=1),\n",
    "        nn.ReLU(),\n",
    "        nn.MaxPool2d(kernel_size=2, stride=2),\n",
    "        nn.Dropout(0.2),\n",
    "\n",
    "        nn.Conv2d(32, 64, kernel_size=3, padding=1, stride=1),\n",
    "        nn.ReLU(),\n",
    "        nn.MaxPool2d(kernel_size=2, stride=2),\n",
    "        nn.Dropout(0.2),\n",
    "\n",
    "        nn.Flatten(),\n",
    "\n",
    "        nn.Linear(13248, 256),\n",
    "        nn.ReLU(),\n",
    "\n",
    "        nn.Linear(256, 128),\n",
    "        nn.ReLU(),\n",
    "\n",
    "        nn.Linear(128, num_classes),\n",
    "        nn.Softmax(dim=1)\n",
    "    )\n",
    "\n",
    "  def forward(self, x):\n",
    "    x = self.model(x)\n",
    "    return x\n",
    "\n",
    "model = CNNModel(num_classes=audio_dataset.num_classes()).to(device)"
   ]
  },
  {
   "cell_type": "code",
   "execution_count": 160,
   "metadata": {},
   "outputs": [
    {
     "data": {
      "text/plain": [
       "CNNModel(\n",
       "  (model): Sequential(\n",
       "    (0): Conv2d(1, 32, kernel_size=(3, 3), stride=(1, 1), padding=(1, 1))\n",
       "    (1): ReLU()\n",
       "    (2): MaxPool2d(kernel_size=2, stride=2, padding=0, dilation=1, ceil_mode=False)\n",
       "    (3): Dropout(p=0.2, inplace=False)\n",
       "    (4): Conv2d(32, 64, kernel_size=(3, 3), stride=(1, 1), padding=(1, 1))\n",
       "    (5): ReLU()\n",
       "    (6): MaxPool2d(kernel_size=2, stride=2, padding=0, dilation=1, ceil_mode=False)\n",
       "    (7): Dropout(p=0.2, inplace=False)\n",
       "    (8): Flatten(start_dim=1, end_dim=-1)\n",
       "    (9): Linear(in_features=13248, out_features=256, bias=True)\n",
       "    (10): ReLU()\n",
       "    (11): Linear(in_features=256, out_features=128, bias=True)\n",
       "    (12): ReLU()\n",
       "    (13): Linear(in_features=128, out_features=8, bias=True)\n",
       "    (14): Softmax(dim=1)\n",
       "  )\n",
       ")"
      ]
     },
     "execution_count": 160,
     "metadata": {},
     "output_type": "execute_result"
    }
   ],
   "source": [
    "model"
   ]
  },
  {
   "cell_type": "markdown",
   "metadata": {},
   "source": [
    "## Training Functions"
   ]
  },
  {
   "cell_type": "code",
   "execution_count": 161,
   "metadata": {},
   "outputs": [],
   "source": [
    "def save_checkpoint(lr, fold, epoch, model, optimizer):\n",
    "  checkpoint = {\n",
    "      'lr': lr,\n",
    "      'fold': fold,\n",
    "      'epoch': epoch,\n",
    "      'model_state_dict': model.state_dict(),\n",
    "      'optimizer_state_dict': optimizer.state_dict(),\n",
    "  }\n",
    "  filepath = f'./Checkpoints/checkpoint_lr_{lr}_fold_{fold}_epoch_{epoch}.pth'\n",
    "  if not(os.path.isdir(\"Checkpoints\")): os.makedirs(\"Checkpoints\", exist_ok=True)\n",
    "  torch.save(checkpoint, filepath)"
   ]
  },
  {
   "cell_type": "code",
   "execution_count": 162,
   "metadata": {},
   "outputs": [],
   "source": [
    "def load_checkpoint(model, optimizer, filepath):\n",
    "  checkpoint = torch.load(filepath)\n",
    "  model.load_state_dict(checkpoint['model_state_dict'])\n",
    "  optimizer.load_state_dict(checkpoint['optimizer_state_dict'])\n",
    "  epoch = checkpoint['epoch']\n",
    "  \n",
    "  # lr = checkpoint['lr']\n",
    "  # fold = checkpoint['fold']\n",
    "      \n",
    "  return model, optimizer, epoch"
   ]
  },
  {
   "cell_type": "code",
   "execution_count": 163,
   "metadata": {},
   "outputs": [],
   "source": [
    "def evaluate(model, val_loader):\n",
    "    # Evaluate accuracy on validation dataset\n",
    "    model.eval()\n",
    "    total_correct_val = 0\n",
    "    total_samples_val = 0\n",
    "\n",
    "    with torch.no_grad():\n",
    "      for audios, labels in val_loader:\n",
    "        audios = audios.unsqueeze(1)\n",
    "        audios, labels = audios.to(device), labels.to(device)\n",
    "\n",
    "        outputs = model(audios)\n",
    "        outputs = outputs.to(device)\n",
    "        _, predicted = torch.max(outputs, 1)\n",
    "\n",
    "        total_correct_val += (predicted == labels).sum().item()\n",
    "        total_samples_val += labels.size(0)\n",
    "\n",
    "    accuracy_val = total_correct_val / total_samples_val\n",
    "    print(f\"Validation Accuracy: {accuracy_val * 100:.2f}%\")\n",
    "    return accuracy_val"
   ]
  },
  {
   "cell_type": "code",
   "execution_count": 164,
   "metadata": {},
   "outputs": [],
   "source": [
    "def train(num_epochs, lr, fold, optimizer, criterion, train_loader, val_loader, val_after_each_epoch=True):\n",
    "\n",
    "  global model   # use the global model\n",
    "\n",
    "  halfpoint = round(num_epochs/2)\n",
    "\n",
    "  # For plotting after training\n",
    "  loss_history = []\n",
    "  train_accuracy_history = []\n",
    "  val_accuracy_history = []\n",
    "\n",
    "  for epoch in range(num_epochs):\n",
    "    model.train()\n",
    "\n",
    "    # Evaluating accuracy\n",
    "    running_loss = 0.0\n",
    "    total_correct_train = 0\n",
    "    total_samples_train = 0\n",
    "\n",
    "    # print(\"start training\")\n",
    "    for inputs, labels in train_loader:\n",
    "      # Start train\n",
    "      inputs = inputs.unsqueeze(1)\n",
    "      inputs, labels = inputs.to(device), labels.to(device)\n",
    "      optimizer.zero_grad()\n",
    "\n",
    "      outputs = model(inputs)\n",
    "      _, predicted = torch.max(outputs, 1)\n",
    "\n",
    "      loss = criterion(outputs, labels)\n",
    "      loss.backward()\n",
    "      optimizer.step()\n",
    "      # End train\n",
    "\n",
    "      total_correct_train += (predicted == labels).sum().item()\n",
    "      total_samples_train += labels.size(0)\n",
    "\n",
    "      running_loss += loss.item()\n",
    "    # print(\"training finished\")\n",
    "    \n",
    "    epoch_loss = running_loss / len(train_loader)\n",
    "    accuracy_train = total_correct_train / total_samples_train\n",
    "    print(f'Epoch [{epoch + 1}/{num_epochs}], Loss: {epoch_loss:.4f}, Training Accuracy: {accuracy_train * 100:.2f}%')\n",
    "    \n",
    "    loss_history.append(epoch_loss)\n",
    "    train_accuracy_history.append(accuracy_train)\n",
    "\n",
    "    if epoch >= halfpoint:\n",
    "      save_checkpoint(lr, fold, epoch, model, optimizer)\n",
    "\n",
    "    if val_after_each_epoch:\n",
    "          val_accuracy_history.append(evaluate(model, val_loader))      \n",
    "        \n",
    "  return loss_history, train_accuracy_history, val_accuracy_history"
   ]
  },
  {
   "cell_type": "code",
   "execution_count": 165,
   "metadata": {},
   "outputs": [],
   "source": [
    "# learning rates\n",
    "lr_values = [0.0005, 0.001, 0.005, 0.01]"
   ]
  },
  {
   "cell_type": "code",
   "execution_count": 166,
   "metadata": {},
   "outputs": [],
   "source": [
    "# Global Batch Size and Number of Folds\n",
    "batch_size = 256     # Optimize the batch size here\n",
    "k_folds = 5"
   ]
  },
  {
   "cell_type": "markdown",
   "metadata": {},
   "source": [
    "## Grid Search"
   ]
  },
  {
   "cell_type": "code",
   "execution_count": null,
   "metadata": {},
   "outputs": [],
   "source": [
    "# Number of epochs\n",
    "num_epochs = 2"
   ]
  },
  {
   "cell_type": "code",
   "execution_count": 169,
   "metadata": {},
   "outputs": [],
   "source": [
    "def grid_search(num_epochs, lr_values, batch_size, k_folds):\n",
    "\n",
    "  global model   # use the global model\n",
    "\n",
    "  # print(\"running grid\")\n",
    "  criterion = nn.CrossEntropyLoss()\n",
    "  all_loss_history = {}\n",
    "  all_train_accuracy_history = {}\n",
    "  all_val_accuracy_history = {}\n",
    "\n",
    "  for learn_rate in lr_values:\n",
    "    print(f\"-----LEARNING RATE: {learn_rate}-----\")\n",
    "    \n",
    "    kf = KFold(n_splits=k_folds, shuffle=True)\n",
    "\n",
    "    # Loop through each fold\n",
    "    for fold, (train_idx, val_idx) in enumerate(kf.split(train_dataset)):      # the training dataset; includes validation\n",
    "      model = CNNModel(num_classes=audio_dataset.num_classes()).to(device)     # initiates a new model for each fold\n",
    "      print(f\"Fold {fold + 1}\")\n",
    "      print(\"-------\")\n",
    "\n",
    "      # Train/validation data loaders for current fold\n",
    "      train_loader = DataLoader(\n",
    "          dataset=train_dataset,\n",
    "          batch_size=batch_size,\n",
    "          sampler=torch.utils.data.SubsetRandomSampler(train_idx),\n",
    "      )\n",
    "      val_loader = DataLoader(\n",
    "          dataset=train_dataset,\n",
    "          batch_size=batch_size,\n",
    "          sampler=torch.utils.data.SubsetRandomSampler(val_idx),\n",
    "        )\n",
    "\n",
    "      optimizer = optim.Adam(model.parameters(), lr=learn_rate)\n",
    "      loss_history, train_accuracy_history, val_accuracy_history = train(num_epochs, learn_rate, fold, optimizer, criterion,\n",
    "                                                                          train_loader, val_loader, val_after_each_epoch=True)\n",
    "      try:\n",
    "        all_loss_history[learn_rate].append(loss_history)\n",
    "        all_train_accuracy_history[learn_rate].append(train_accuracy_history)\n",
    "        all_val_accuracy_history[learn_rate].append(val_accuracy_history)\n",
    "      except:\n",
    "        all_loss_history[learn_rate] = [loss_history]\n",
    "        all_train_accuracy_history[learn_rate] = [train_accuracy_history]\n",
    "        all_val_accuracy_history[learn_rate] = [val_accuracy_history]\n",
    "\n",
    "  return all_loss_history, all_train_accuracy_history, all_val_accuracy_history\n"
   ]
  },
  {
   "cell_type": "markdown",
   "metadata": {},
   "source": [
    "## Training the Model"
   ]
  },
  {
   "cell_type": "code",
   "execution_count": null,
   "metadata": {},
   "outputs": [],
   "source": [
    "loss, train_acc, val_acc = grid_search(num_epochs=num_epochs, lr_values=[0.001], batch_size=batch_size, k_folds=k_folds) # Change later"
   ]
  },
  {
   "cell_type": "code",
   "execution_count": 39,
   "metadata": {},
   "outputs": [
    {
     "name": "stdout",
     "output_type": "stream",
     "text": [
      "{0.001: [[0.35046248715313466, 0.4265159301130524], [0.3776978417266187, 0.4511819116135663], [0.31963001027749227, 0.4033915724563207], [0.3828365878725591, 0.4403905447070915], [0.34704370179948585, 0.4051413881748072]]}\n"
     ]
    }
   ],
   "source": [
    "loss\n",
    "train_acc\n",
    "print(val_acc)"
   ]
  },
  {
   "cell_type": "code",
   "execution_count": 43,
   "metadata": {},
   "outputs": [],
   "source": [
    "# Model we want to check\n",
    "\n",
    "check_epoch = 23\n",
    "check_fold = 3\n",
    "check_lr = 0.001 \n",
    "optimizer = optim.Adam(model.parameters(), lr=check_lr)\n",
    "\n",
    "loaded_model, loaded_optimizer, start_epoch = load_checkpoint(model, optimizer,\n",
    "    f'./Checkpoints/checkpoint_lr_{check_lr}_fold_{check_fold}_epoch_{check_epoch}.pth')"
   ]
  },
  {
   "cell_type": "code",
   "execution_count": null,
   "metadata": {},
   "outputs": [
    {
     "data": {
      "image/png": "[encoded data removed]",
      "text/plain": [
       "<Figure size 1200x400 with 2 Axes>"
      ]
     },
     "metadata": {},
     "output_type": "display_data"
    }
   ],
   "source": [
    "# to edit\n",
    "\n",
    "\n",
    "epochs = range(1, len(loss) + 1)\n",
    "\n",
    "plt.figure(figsize=(12, 4))\n",
    "plt.subplot(1, 2, 1)\n",
    "plt.plot(epochs, loss, label='Training Loss')\n",
    "plt.xlabel('Epoch')\n",
    "plt.ylabel('Loss')\n",
    "plt.legend()\n",
    "\n",
    "plt.subplot(1, 2, 2)\n",
    "plt.plot(epochs, train_acc, label='Training Accuracy')\n",
    "plt.plot(epochs, val_acc, label='Validation Accuracy')\n",
    "plt.title('Training and Validation Accuracy')\n",
    "plt.xlabel('Epoch')\n",
    "plt.ylabel('Accuracy')\n",
    "plt.legend()\n",
    "\n",
    "plt.tight_layout()\n",
    "plt.show()"
   ]
  },
  {
   "cell_type": "markdown",
   "metadata": {},
   "source": [
    "## Saving the Weights"
   ]
  },
  {
   "cell_type": "code",
   "execution_count": 46,
   "metadata": {},
   "outputs": [],
   "source": [
    "if not(os.path.isdir(\"ModelWeights\")): os.makedirs(\"ModelWeights\", exist_ok=True)\n",
    "torch.save(model.state_dict(), './ModelWeights/trained_model.pth')"
   ]
  },
  {
   "cell_type": "markdown",
   "metadata": {},
   "source": [
    "## Loading the Weights"
   ]
  },
  {
   "cell_type": "code",
   "execution_count": 21,
   "metadata": {},
   "outputs": [
    {
     "data": {
      "text/plain": [
       "CNNModel(\n",
       "  (model): Sequential(\n",
       "    (0): Conv2d(1, 32, kernel_size=(3, 3), stride=(1, 1), padding=(1, 1))\n",
       "    (1): ReLU()\n",
       "    (2): MaxPool2d(kernel_size=2, stride=2, padding=0, dilation=1, ceil_mode=False)\n",
       "    (3): Dropout(p=0.2, inplace=False)\n",
       "    (4): Conv2d(32, 64, kernel_size=(3, 3), stride=(1, 1), padding=(1, 1))\n",
       "    (5): ReLU()\n",
       "    (6): MaxPool2d(kernel_size=2, stride=2, padding=0, dilation=1, ceil_mode=False)\n",
       "    (7): Dropout(p=0.2, inplace=False)\n",
       "    (8): Flatten(start_dim=1, end_dim=-1)\n",
       "    (9): Linear(in_features=13248, out_features=256, bias=True)\n",
       "    (10): ReLU()\n",
       "    (11): Linear(in_features=256, out_features=128, bias=True)\n",
       "    (12): ReLU()\n",
       "    (13): Linear(in_features=128, out_features=8, bias=True)\n",
       "    (14): Softmax(dim=1)\n",
       "  )\n",
       ")"
      ]
     },
     "execution_count": 21,
     "metadata": {},
     "output_type": "execute_result"
    }
   ],
   "source": [
    "model = CNNModel(num_classes=audio_dataset.num_classes()).to(device)\n",
    "model.load_state_dict(torch.load('./ModelWeights/trained_model.pth', map_location=torch.device(device)))\n",
    "model.eval()"
   ]
  },
  {
   "cell_type": "markdown",
   "metadata": {},
   "source": [
    "## Test the model's results"
   ]
  },
  {
   "cell_type": "code",
   "execution_count": 179,
   "metadata": {},
   "outputs": [
    {
     "name": "stdout",
     "output_type": "stream",
     "text": [
      "Audio File: Data\\resampled\\RAVDESS\\RAVDESS_resampled_297_emotion_7.wav\n",
      "True Label: 7 surprised\n",
      "Predicted Label: 2 happy\n"
     ]
    }
   ],
   "source": [
    "from random import randint\n",
    "\n",
    "# Select a random audio file from the dataset\n",
    "audio_index = randint(0, len(audio_dataset)) # Change this to the index of the audio file you want to use\n",
    "audio_file_path = audio_dataset.audio_files['path'][audio_index]\n",
    "audio_file, audio_label = audio_dataset[audio_index]\n",
    "\n",
    "# Load the audio file and extract MFCCs\n",
    "audio_tensor = torch.tensor(audio_file, dtype=torch.float32).unsqueeze(0).unsqueeze(0).to(device)\n",
    "\n",
    "# Pass the audio tensor through the model\n",
    "model.eval()\n",
    "with torch.no_grad():\n",
    "    output = model(audio_tensor)\n",
    "\n",
    "# Get the predicted label\n",
    "predicted_label = torch.argmax(output).item()\n",
    "\n",
    "# Print the results\n",
    "print(\"Audio File:\", audio_file_path)\n",
    "print(\"True Label:\", audio_label, Lib.convert_label(audio_label))\n",
    "print(\"Predicted Label:\", predicted_label, Lib.convert_label(predicted_label))\n"
   ]
  }
 ],
 "metadata": {
  "kernelspec": {
   "display_name": "Python 3",
   "language": "python",
   "name": "python3"
  },
  "language_info": {
   "codemirror_mode": {
    "name": "ipython",
    "version": 3
   },
   "file_extension": ".py",
   "mimetype": "text/x-python",
   "name": "python",
   "nbconvert_exporter": "python",
   "pygments_lexer": "ipython3",
   "version": "3.11.5"
  }
 },
 "nbformat": 4,
 "nbformat_minor": 2
}
