{
 "cells": [
  {
   "cell_type": "markdown",
   "metadata": {},
   "source": [
    "# Semi Final Codes Notebook"
   ]
  },
  {
   "cell_type": "markdown",
   "metadata": {},
   "source": [
    "## Intro\n",
    "\n",
    "The purpose of this notebook is to keep the necessary blocks and codes that we are going to use in our final model.\n",
    "It will help us to keep track of every finished part of the project and helps with debugging of each section as we are ready to implement them.  "
   ]
  },
  {
   "cell_type": "markdown",
   "metadata": {},
   "source": [
    "## Importing necessary libraries"
   ]
  },
  {
   "cell_type": "code",
   "execution_count": 2,
   "metadata": {},
   "outputs": [],
   "source": [
    "import os, sys\n",
    "\n",
    "import numpy as np\n",
    "import pandas as pd\n",
    "\n",
    "import torch\n",
    "torch.manual_seed(0)\n",
    "from torch.utils.data import Dataset, DataLoader\n",
    "import torch.nn as nn\n",
    "import torch.optim as optim\n",
    "\n",
    "import matplotlib.pyplot as plt\n",
    "\n",
    "from sklearn.model_selection import KFold\n",
    "from sklearn.metrics import confusion_matrix\n",
    "\n",
    "import librosa\n",
    "\n",
    "import Lib  # the project's own library of functions"
   ]
  },
  {
   "cell_type": "markdown",
   "metadata": {},
   "source": [
    "## Initializing Datasets\n",
    "\n",
    "Note: Make sure you have downloaded the datasets and placed them in the './Data/' directory\n",
    "\n",
    "each of these blocks pre-process their respective dataset. For each available dataset, run it's corresponding block to make sure its ready to be utilized."
   ]
  },
  {
   "cell_type": "code",
   "execution_count": 3,
   "metadata": {},
   "outputs": [
    {
     "name": "stdout",
     "output_type": "stream",
     "text": [
      "Dataset has already been normalized and resampled. Skipping...\n"
     ]
    }
   ],
   "source": [
    "CREMA = Lib.CREMA()"
   ]
  },
  {
   "cell_type": "code",
   "execution_count": 4,
   "metadata": {},
   "outputs": [
    {
     "name": "stdout",
     "output_type": "stream",
     "text": [
      "Dataset has already been normalized and resampled. Skipping...\n"
     ]
    }
   ],
   "source": [
    "RAVDESS = Lib.RAVDESS()"
   ]
  },
  {
   "cell_type": "code",
   "execution_count": 5,
   "metadata": {},
   "outputs": [
    {
     "name": "stdout",
     "output_type": "stream",
     "text": [
      "Dataset has already been normalized and resampled. Skipping...\n"
     ]
    }
   ],
   "source": [
    "SAVEE = Lib.SAVEE()"
   ]
  },
  {
   "cell_type": "code",
   "execution_count": 6,
   "metadata": {},
   "outputs": [
    {
     "name": "stdout",
     "output_type": "stream",
     "text": [
      "Dataset has already been normalized and resampled. Skipping...\n"
     ]
    }
   ],
   "source": [
    "TESS = Lib.TESS()"
   ]
  },
  {
   "cell_type": "markdown",
   "metadata": {},
   "source": [
    "## Prepare the Data"
   ]
  },
  {
   "cell_type": "code",
   "execution_count": 7,
   "metadata": {},
   "outputs": [],
   "source": [
    "def pad_audio(audio, sr, desired_length_in_sec):\n",
    "\n",
    "    # desired_length is desired length of audio in seconds\n",
    "    # audio is the raw audio signal as numpy array from librosa\n",
    "    # sr is sampling rate\n",
    "    desired_length = int(sr * desired_length_in_sec)\n",
    "\n",
    "    # Truncate if too long\n",
    "    if len(audio) > desired_length:\n",
    "        audio = audio[:desired_length]\n",
    "        # TODO: Check for silent parts before cropping the audio file\n",
    "\n",
    "    # Else, pad with 0s\n",
    "    else:\n",
    "        padding = int(desired_length - len(audio))\n",
    "        audio = np.pad(audio, (0, padding), 'constant')\n",
    "    return audio"
   ]
  },
  {
   "cell_type": "code",
   "execution_count": 8,
   "metadata": {},
   "outputs": [],
   "source": [
    "# extract MFCCs from the audio files\n",
    "def extract_mfccs(file_path, n_mfcc=13):\n",
    "    audio, sr = librosa.load(file_path, sr=None)\n",
    "    audio = pad_audio(audio, sr, 2.0)\n",
    "\n",
    "    # This returns an mfcc where the COLUMNS correspond to the frames of the audio,\n",
    "    # and ROWS represent features\n",
    "    mfcc = librosa.feature.mfcc(y=audio, sr=sr, n_mfcc=n_mfcc)\n",
    "\n",
    "    # This extracts info about the first and second derivative of the mfcc\n",
    "    # so we can get an idea of how the audio changes over time\n",
    "    delta_mfcc  = librosa.feature.delta(mfcc)\n",
    "    delta2_mfcc = librosa.feature.delta(mfcc, order=2)\n",
    "\n",
    "    # Stacking mfcc and deltas together\n",
    "    combined_matrix = np.vstack([mfcc, delta_mfcc, delta2_mfcc])\n",
    "    print(\"MFCC shape:\", mfcc.shape)\n",
    "    print(\"Delta MFCC shape:\", delta_mfcc.shape)\n",
    "    print(\"Delta2 MFCC shape:\", delta2_mfcc.shape)\n",
    "\n",
    "    # Normalize mfccs\n",
    "    combined_matrix = (combined_matrix - np.mean(combined_matrix, axis=0)) / np.std(combined_matrix, axis=0)\n",
    "    print(\"Combined matrix shape before transpose:\", combined_matrix.shape)\n",
    "\n",
    "    # We transpose so that the ROWS correspond to the frames of the audio, \n",
    "    # while COLUMNS represent features\n",
    "    transposed_matrix = np.transpose(combined_matrix, [1, 0])\n",
    "    print(\"Transposed matrix shape:\", transposed_matrix.shape)\n",
    "\n",
    "    # Display the combined matrix\n",
    "    plt.figure(figsize=(12, 6))\n",
    "    plt.imshow(combined_matrix, aspect='auto', origin='lower', cmap='viridis')\n",
    "\n",
    "    # We divide the y-axis into three equal parts to denote MFCC, delta, and delta-delta regions\n",
    "    num_rows = combined_matrix.shape[0]\n",
    "    plt.yticks(\n",
    "        [num_rows/6, num_rows/2, 5*num_rows/6],\n",
    "        ['MFCC', 'Delta', 'Delta-Delta']\n",
    "    )\n",
    "\n",
    "    plt.title('Combined MFCC, Delta, Delta-Delta Coefficients')\n",
    "    plt.xlabel('Frame')\n",
    "    plt.ylabel('Coefficients')\n",
    "    plt.colorbar()\n",
    "    plt.tight_layout()\n",
    "    plt.show()\n",
    "    return transposed_matrix"
   ]
  },
  {
   "cell_type": "code",
   "execution_count": 9,
   "metadata": {},
   "outputs": [],
   "source": [
    "class ResampledAudioDataset(Dataset):\n",
    "    \n",
    "    def __init__(self, *datasets):\n",
    "        # 'audio_files' is a dictionary that will contain path and labels for every audio file in the given datasets\n",
    "        # and is formatted as {'path': [], 'label': []}\n",
    "        self.audio_files = Lib.merge_dataset_dictionaries(*datasets)\n",
    "        print(pd.DataFrame(self.audio_files))\n",
    "\n",
    "    def __len__(self):\n",
    "        return len(self.audio_files['path'])\n",
    "    \n",
    "    def __getitem__(self, index):\n",
    "        audio_path = self.audio_files['path'][index]\n",
    "        audio_label = self.audio_files['label'][index]\n",
    "        audio_file = extract_mfccs(audio_path)\n",
    "        print('----------- Audio file Data -----------')\n",
    "        print('Audio path:', audio_path)\n",
    "        print ('Audio label:', audio_label, f'({Lib.convert_label(audio_label)})')\n",
    "        return audio_file, audio_label"
   ]
  },
  {
   "cell_type": "code",
   "execution_count": 10,
   "metadata": {},
   "outputs": [
    {
     "name": "stdout",
     "output_type": "stream",
     "text": [
      "                                                    path  label\n",
      "0      Data\\resampled\\CREMA\\CREMA_resampled_0_emotion...      5\n",
      "1      Data\\resampled\\CREMA\\CREMA_resampled_1_emotion...      7\n",
      "2      Data\\resampled\\CREMA\\CREMA_resampled_2_emotion...      6\n",
      "3      Data\\resampled\\CREMA\\CREMA_resampled_3_emotion...      3\n",
      "4      Data\\resampled\\CREMA\\CREMA_resampled_4_emotion...      1\n",
      "...                                                  ...    ...\n",
      "12157  Data\\resampled\\SAVEE\\SAVEE_resampled_475_emoti...      8\n",
      "12158  Data\\resampled\\SAVEE\\SAVEE_resampled_476_emoti...      8\n",
      "12159  Data\\resampled\\SAVEE\\SAVEE_resampled_477_emoti...      8\n",
      "12160  Data\\resampled\\SAVEE\\SAVEE_resampled_478_emoti...      8\n",
      "12161  Data\\resampled\\SAVEE\\SAVEE_resampled_479_emoti...      8\n",
      "\n",
      "[12162 rows x 2 columns]\n"
     ]
    }
   ],
   "source": [
    "# creating the dataset from all available audio files for the model\n",
    "audio_dataset = ResampledAudioDataset(CREMA, RAVDESS, TESS, SAVEE)\n",
    "\n",
    "train_len = int(len(audio_dataset) * 0.8)   # 80% of the data will be used for the training\n",
    "test_len = len(audio_dataset) - train_len   # 20% of the data will be used for the testing\n",
    "train_dataset, test_dataset = torch.utils.data.random_split(audio_dataset, [train_len, test_len])\n",
    "\n",
    "b_size = 32 # batch size\n",
    "test_loader = DataLoader(test_dataset, batch_size=b_size, shuffle=True)"
   ]
  },
  {
   "cell_type": "markdown",
   "metadata": {},
   "source": [
    "### ----------------- Temp Test Block -----------------"
   ]
  },
  {
   "cell_type": "code",
   "execution_count": 11,
   "metadata": {},
   "outputs": [
    {
     "name": "stdout",
     "output_type": "stream",
     "text": [
      "MFCC shape: (13, 94)\n",
      "Delta MFCC shape: (13, 94)\n",
      "Delta2 MFCC shape: (13, 94)\n",
      "Combined matrix shape before transpose: (39, 94)\n",
      "Transposed matrix shape: (94, 39)\n"
     ]
    },
    {
     "data": {
      "image/png": "[encoded data removed]",
      "text/plain": [
       "<Figure size 1200x600 with 2 Axes>"
      ]
     },
     "metadata": {},
     "output_type": "display_data"
    },
    {
     "name": "stdout",
     "output_type": "stream",
     "text": [
      "----------- Audio file Data -----------\n",
      "Audio path: Data\\resampled\\CREMA\\CREMA_resampled_2382_emotion_7.wav\n",
      "Audio label: 7 (disgust)\n"
     ]
    },
    {
     "data": {
      "text/plain": [
       "(array([[-3.5860662 ,  4.6186833 ,  0.7580069 , ..., -0.15708554,\n",
       "         -0.07992894, -0.12292159],\n",
       "        [-2.9995348 ,  4.70082   ,  0.6652211 , ..., -0.19201908,\n",
       "         -0.12353586, -0.16169558],\n",
       "        [-3.0993543 ,  4.5626783 ,  0.426312  , ..., -0.17280622,\n",
       "         -0.11171044, -0.14575379],\n",
       "        ...,\n",
       "        [ 1.257184  ,  5.557013  , -0.20900291, ..., -0.14491042,\n",
       "         -0.13893206, -0.12467621],\n",
       "        [ 0.735959  ,  5.1919026 , -0.0660508 , ..., -0.15941311,\n",
       "         -0.15332213, -0.13879773],\n",
       "        [ 1.1751672 ,  4.5792346 ,  0.0803216 , ..., -0.16099355,\n",
       "         -0.1544345 , -0.13879398]], dtype=float32),\n",
       " 7)"
      ]
     },
     "execution_count": 11,
     "metadata": {},
     "output_type": "execute_result"
    }
   ],
   "source": [
    "train_dataset[1]"
   ]
  },
  {
   "cell_type": "markdown",
   "metadata": {},
   "source": [
    "## Saving the Weights"
   ]
  },
  {
   "cell_type": "markdown",
   "metadata": {},
   "source": [
    "Block to save the trained weights:\n",
    "- TODO: (We need to define \"model\")"
   ]
  },
  {
   "cell_type": "code",
   "execution_count": null,
   "metadata": {},
   "outputs": [],
   "source": [
    "torch.save(model.state_dict(), './ModelWeights/trained_model.model')"
   ]
  },
  {
   "cell_type": "markdown",
   "metadata": {},
   "source": [
    "Load the trained weights:"
   ]
  },
  {
   "cell_type": "code",
   "execution_count": null,
   "metadata": {},
   "outputs": [],
   "source": [
    "model = CNNModel(num_classes=6).to(device)\n",
    "model.load_state_dict(torch.load('./ModelWeights/trained_weights.model'))\n",
    "model.eval()"
   ]
  }
 ],
 "metadata": {
  "kernelspec": {
   "display_name": "Python 3",
   "language": "python",
   "name": "python3"
  },
  "language_info": {
   "codemirror_mode": {
    "name": "ipython",
    "version": 3
   },
   "file_extension": ".py",
   "mimetype": "text/x-python",
   "name": "python",
   "nbconvert_exporter": "python",
   "pygments_lexer": "ipython3",
   "version": "3.11.5"
  }
 },
 "nbformat": 4,
 "nbformat_minor": 2
}
