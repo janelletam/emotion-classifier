{
 "cells": [
  {
   "cell_type": "markdown",
   "metadata": {},
   "source": [
    "### **Intro**\n",
    "We're going to start off by doing some data preprocessing for an emotion classifier model that takes a piece of audio data and labels it."
   ]
  },
  {
   "cell_type": "code",
   "execution_count": null,
   "metadata": {},
   "outputs": [],
   "source": [
    "# Libraries to install\n",
    "!python -m pip install librosa\n",
    "# !python -m pip install matplotlib==3.3.4\n",
    "# !python -m pip install datasets[audio]"
   ]
  },
  {
   "cell_type": "code",
   "execution_count": 27,
   "metadata": {},
   "outputs": [
    {
     "name": "stdout",
     "output_type": "stream",
     "text": [
      "Length of the rAV audio audio: 2.28 seconds\n",
      "Number of samples: 36409\n",
      "Sampling rate: 16000 Hz\n",
      "Length of the rAV audio audio: 2.34 seconds\n",
      "Number of samples: 37371\n",
      "Sampling rate: 16000 Hz\n",
      "Length of the rAV audio audio: 2.17 seconds\n",
      "Number of samples: 34701\n",
      "Sampling rate: 16000 Hz\n",
      "Length of the rAV audio audio: 1.87 seconds\n",
      "Number of samples: 29896\n",
      "Sampling rate: 16000 Hz\n",
      "Length of the rAV audio audio: 2.04 seconds\n",
      "Number of samples: 32566\n",
      "Sampling rate: 16000 Hz\n"
     ]
    }
   ],
   "source": [
    "import os\n",
    "import librosa\n",
    "import matplotlib.pyplot as plt\n",
    "import librosa.display as display\n",
    "import pandas as pd\n",
    "\n",
    "# Let's analyze some of our audio files\n",
    "audio_folder_name = \"data\\CREMA\"\n",
    "audio_files = os.listdir(audio_folder_name)\n",
    "\n",
    "for file_name in audio_files[:5]:\n",
    "    file_path = os.path.join(audio_folder_name, file_name)\n",
    "    y, sr = librosa.load(file_path, sr=None)\n",
    "\n",
    "    # Info about sampling rate\n",
    "    print('Length of the rAV audio audio: {:.2f} seconds'.format(len(y) / sr))\n",
    "    print('Number of samples: {}'.format(len(y)))\n",
    "    print('Sampling rate: {} Hz'.format(sr))\n",
    "\n",
    "    # About mfccs\n",
    "    # mfccs = librosa.feature.mfcc(y=array, sr=sampling_rate)\n",
    "    # print(mfccs)\n",
    "    # df = pd.DataFrame(mfccs)\n",
    "    # print(df.head())"
   ]
  },
  {
   "cell_type": "markdown",
   "metadata": {},
   "source": [
    "### About Datasets\n",
    "**TESS**: Sampling rate of 24 414 Hz, audio files are between 1-2 seconds long\n",
    "\n",
    "**SAVEE**: Sampling rate of 48000 Hz, audio files are between 3-4 seconds long\n",
    "\n",
    "**RAVDESS**: Sampling rate of 48000 Hz, audio files are also between 3-4 seconds long\n",
    "\n",
    "**CREMA**: Sampling rate of 16000 Hz Hz, audio files 1-2 secs long"
   ]
  }
 ],
 "metadata": {
  "kernelspec": {
   "display_name": "Python 3",
   "language": "python",
   "name": "python3"
  },
  "language_info": {
   "codemirror_mode": {
    "name": "ipython",
    "version": 3
   },
   "file_extension": ".py",
   "mimetype": "text/x-python",
   "name": "python",
   "nbconvert_exporter": "python",
   "pygments_lexer": "ipython3",
   "version": "3.10.0"
  }
 },
 "nbformat": 4,
 "nbformat_minor": 2
}
